{
 "cells": [
  {
   "cell_type": "code",
   "execution_count": null,
   "metadata": {},
   "outputs": [],
   "source": []
  },
  {
   "cell_type": "code",
   "execution_count": null,
   "metadata": {},
   "outputs": [],
   "source": [
    "number_size_classes = 10\n",
    "\n",
    "radius_sphere_min = 1e-6\n",
    "radius_sphere_max = 1e-3\n",
    "\n",
    "radius_boundary_spheres = np.logspace(np.log10(radius_sphere_min), np.log10(radius_sphere_max), number_size_classes+1)\n",
    "# radius_mean_spheres = \n",
    "\n",
    "radius_spheres\n"
   ]
  }
 ],
 "metadata": {
  "language_info": {
   "name": "python"
  }
 },
 "nbformat": 4,
 "nbformat_minor": 2
}
