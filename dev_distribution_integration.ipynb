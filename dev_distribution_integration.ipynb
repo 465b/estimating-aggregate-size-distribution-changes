{
 "cells": [
  {
   "cell_type": "code",
   "execution_count": 1,
   "metadata": {},
   "outputs": [],
   "source": [
    "from coagulation_model.coagulation_kernel import CoagulationKernel as kernel\n",
    "from coagulation_model.plotting_kernels import plot_kernel_map\n",
    "from coagulation_model.plotting_kernels import plot_normalized_kernel_map\n",
    "from coagulation_model.plotting_kernels import plot_kernel_diff_map\n",
    "\n",
    "import matplotlib.pyplot as plt\n",
    "import numpy as np\n",
    "import seaborn as sns\n",
    "sns.set_context('notebook')"
   ]
  },
  {
   "cell_type": "code",
   "execution_count": 5,
   "metadata": {},
   "outputs": [
    {
     "name": "stdout",
     "output_type": "stream",
     "text": [
      "Shape of vcon_mat: (3, 5)\n",
      "Shape of vcon_shift: (3, 5)\n"
     ]
    },
    {
     "data": {
      "text/plain": [
       "array([[0., 1., 2., 4., 8.],\n",
       "       [0., 1., 2., 4., 8.],\n",
       "       [0., 1., 2., 4., 8.]])"
      ]
     },
     "execution_count": 5,
     "metadata": {},
     "output_type": "execute_result"
    }
   ],
   "source": [
    "\n",
    "# Assume vcon_r is an array like [1,2,4,8,16]\n",
    "vcon_r = np.array([1, 2, 4, 8, 16])\n",
    "\n",
    "# Assuming n_sections is defined, for example\n",
    "n_sections = 3\n",
    "\n",
    "# Create vcon_mat by replicating vcon_r n_sections times\n",
    "vcon_mat = np.tile(vcon_r, (n_sections, 1))\n",
    "\n",
    "# Create vcon_shift by appending a column of zeros to the left of vcon_mat (excluding the last column)\n",
    "vcon_shift = np.hstack((np.zeros((n_sections, 1)), vcon_mat[:, :-1]))\n",
    "\n",
    "# Print the shapes of the objects\n",
    "print(\"Shape of vcon_mat:\", vcon_mat.shape)\n",
    "print(\"Shape of vcon_shift:\", vcon_shift.shape)\n",
    "\n",
    "vcon_shift"
   ]
  },
  {
   "cell_type": "code",
   "execution_count": 2,
   "metadata": {},
   "outputs": [],
   "source": [
    "def power_law(x, a, b):\n",
    "    return a * x**b\n"
   ]
  },
  {
   "cell_type": "code",
   "execution_count": 3,
   "metadata": {},
   "outputs": [
    {
     "data": {
      "text/plain": [
       "[<matplotlib.lines.Line2D at 0x7f408e273370>]"
      ]
     },
     "execution_count": 3,
     "metadata": {},
     "output_type": "execute_result"
    },
    {
     "data": {
      "image/png": "[encoded data removed]",
      "text/plain": [
       "<Figure size 640x480 with 1 Axes>"
      ]
     },
     "metadata": {},
     "output_type": "display_data"
    }
   ],
   "source": [
    "# plot power law from 1e-6 to 1e-3m\n",
    "\n",
    "x = np.logspace(-6, -3.28, 100)\n",
    "y = power_law(x, 1, -1)\n",
    "\n",
    "plt.plot(x, y)\n"
   ]
  },
  {
   "cell_type": "markdown",
   "metadata": {},
   "source": [
    "# double integral of power law\n",
    "$$ I = \\int_{x_{min}}^{x_{max}} \\int_{y_{min}}^{y_{max}} \\beta(x,y) \\alpha x^{\\beta} \\alpha x^{\\beta} dx dy $$\n",
    "\n",
    "$$ \\; =  \\alpha \\int_{x_{min}}^{x_{max}} \\int_{y_{min}}^{y_{max}} \\beta(x,y) (xy)^{\\beta} dx dy $$\n",
    "\n",
    "assuming $(x_{min},x_{max}) = (y_{min},y_{max})$, we simplify to\n",
    "\n",
    "\n",
    "$$ I =  \\alpha \\int \\int_{x_{min}}^{x_{max}}\\beta(x,y) (xy)^{\\beta} dx dy $$\n",
    "\n",
    "where $\\beta(x,y)$ is a the kernel of choice and  $x$ and $y$ are the respective radii."
   ]
  },
  {
   "cell_type": "markdown",
   "metadata": {},
   "source": [
    "## calculate coagulation properbility based on size classes"
   ]
  },
  {
   "cell_type": "code",
   "execution_count": 48,
   "metadata": {},
   "outputs": [],
   "source": [
    "number_size_classes = 100\n",
    "\n",
    "radius_sphere_min = 1e-6\n",
    "radius_sphere_max = 1e-3\n",
    "\n",
    "radius_boundary_spheres = np.logspace(np.log10(radius_sphere_min), np.log10(radius_sphere_max), number_size_classes+1)\n",
    "# radius_mean_spheres = \n"
   ]
  },
  {
   "cell_type": "code",
   "execution_count": 50,
   "metadata": {},
   "outputs": [
    {
     "data": {
      "text/plain": [
       "0.9999989999999996"
      ]
     },
     "execution_count": 50,
     "metadata": {},
     "output_type": "execute_result"
    }
   ],
   "source": [
    "# normalizsation term\n",
    "\n",
    "def integrand(x):\n",
    "    return 1*x**-3\n",
    "\n",
    "# single variable integration\n",
    "from scipy.integrate import quad\n",
    "results,error = quad(integrand, 1e-6, 1e-3)\n",
    "\n",
    "results*2e-12"
   ]
  },
  {
   "cell_type": "code",
   "execution_count": 54,
   "metadata": {},
   "outputs": [
    {
     "data": {
      "text/plain": [
       "array([0., 0., 0., 0., 0., 0., 0., 0., 0., 0., 0., 0., 0., 0., 0., 0., 0.,\n",
       "       0., 0., 0., 0., 0., 0., 0., 0., 0., 0., 0., 0., 0., 0., 0., 0., 0.,\n",
       "       0., 0., 0., 0., 0., 0., 0., 0., 0., 0., 0., 0., 0., 0., 0., 0., 0.,\n",
       "       0., 0., 0., 0., 0., 0., 0., 0., 0., 0., 0., 0., 0., 0., 0., 0., 0.,\n",
       "       0., 0., 0., 0., 0., 0., 0., 0., 0., 0., 0., 0., 0., 0., 0., 0., 0.,\n",
       "       0., 0., 0., 0., 0., 0., 0., 0., 0., 0., 0., 0., 0., 0.])"
      ]
     },
     "execution_count": 54,
     "metadata": {},
     "output_type": "execute_result"
    }
   ],
   "source": [
    "coagulation_kernel = kernel(\n",
    "    list_of_applied_kernels=[\n",
    "        'rectilinear_shear',\n",
    "        'rectilinear_differential_sedimentation'],\n",
    "    settling_function='settling_velocity_kriest_porous_aggregate'\n",
    "    )\n",
    "\n",
    "\n",
    "def integrand(x, y, a=2e-12, k=3): # Note: the order of arguments is y, x due to the way dblquad expects them.\n",
    "    return a*x**-k * a*y**-k * coagulation_kernel.evaluate_kernel(x,y)\n",
    "\n",
    "results_porous, error = np.zeros(number_size_classes - 1), np.zeros(number_size_classes - 1)\n",
    "for ii in range(len(results_porous)):\n",
    "    # print(x0,x1)\n",
    "    x0, x1 = radius_boundary_spheres[ii], radius_boundary_spheres[ii+1]\n",
    "    \n",
    "    results_porous[ii], error[ii] =  dblquad(integrand, x0, x1, x0,  x1)\n",
    "\n",
    "results"
   ]
  },
  {
   "cell_type": "code",
   "execution_count": 46,
   "metadata": {},
   "outputs": [],
   "source": [
    "coagulation_kernel = kernel(\n",
    "    list_of_applied_kernels=[\n",
    "        'rectilinear_shear',\n",
    "        'rectilinear_differential_sedimentation'],\n",
    "    settling_function='settling_velocity_jackson_lochmann_fractal'\n",
    "    )\n",
    "\n",
    "\n",
    "def integrand(x, y, a=2e-12, k=3): # Note: the order of arguments is y, x due to the way dblquad expects them.\n",
    "    return a*x**-k * a*y**-k * coagulation_kernel.evaluate_kernel(x,y)\n",
    "\n",
    "results_jackson, error = np.zeros(number_size_classes - 1), np.zeros(number_size_classes - 1)\n",
    "for ii in range(len(results)):\n",
    "    # print(x0,x1)\n",
    "    x0, x1 = radius_boundary_spheres[ii], radius_boundary_spheres[ii+1]\n",
    "    \n",
    "    results_jackson[ii], error[ii] =  dblquad(integrand, x0, x1, x0,  x1)\n",
    "\n"
   ]
  },
  {
   "cell_type": "code",
   "execution_count": 47,
   "metadata": {},
   "outputs": [
    {
     "data": {
      "text/plain": [
       "[<matplotlib.lines.Line2D at 0x7f408aff8d30>]"
      ]
     },
     "execution_count": 47,
     "metadata": {},
     "output_type": "execute_result"
    },
    {
     "data": {
      "image/png": "[encoded data removed]",
      "text/plain": [
       "<Figure size 640x480 with 1 Axes>"
      ]
     },
     "metadata": {},
     "output_type": "display_data"
    }
   ],
   "source": [
    "plt.plot(results_porous)\n",
    "plt.plot(results_jackson)"
   ]
  },
  {
   "cell_type": "markdown",
   "metadata": {},
   "source": [
    "### sectional coagulation kernels"
   ]
  },
  {
   "cell_type": "code",
   "execution_count": 41,
   "metadata": {},
   "outputs": [],
   "source": [
    "class sectional_coagulation_kernels:\n",
    "    def __init__(self, coagulation_kernel, particle_size_distribution,\n",
    "                 number_size_classes, radius_sphere_min, radius_sphere_max):\n",
    "        \n",
    "        self.coagulation_kernel = coagulation_kernel # beta(r_i, r_j)\n",
    "        self.number_size_classes = number_size_classes\n",
    "        self.radius_sphere_min = radius_sphere_min\n",
    "        self.radius_sphere_max = radius_sphere_max\n",
    "        self.radius_boundary_spheres = np.logspace(np.log10(radius_sphere_min), np.log10(radius_sphere_max), number_size_classes+1)\n",
    "        self.radius_mean_spheres = np.convolve(self.radius_boundary_spheres, np.ones(2, dtype=int), 'valid') / 2\n",
    "\n",
    "        self.particle_size_distribution = self.init_particle_size_distribution(particle_size_distribution)\n",
    "        self.sectional_coagulation_kernel = np.zeros((5,number_size_classes))\n",
    "        # index 0 is sum,\n",
    "        # the others are sectional kernels 1 - 4\n",
    "\n",
    "\n",
    "    def init_particle_size_distribution(self, particle_size_distribution):\n",
    "        if particle_size_distribution == 'power_law':\n",
    "            alpha = 1\n",
    "            k = -3\n",
    "            return alpha*self.radius_mean_spheres**k\n",
    "            \n",
    "\n",
    "    def sectional_kernel_1_integrand(self,r_i, r_j):\n",
    "\n",
    "        vol_i = coagulation_kernel.volume_sphere(r_i)\n",
    "        vol_j = coagulation_kernel.volume_sphere(r_j)\n",
    "\n",
    "        beta = self.coagulation_kernel\n",
    "\n",
    "        integrand = beta.eval_kernel(r_i, r_j)\n",
    "        integrand = integrand * (vol_i + vol_j)/vol_i/vol_j\n",
    "        \n",
    "        return integrand\n",
    "\n",
    "    \n",
    "    def sectional_kernel_1_eval(self):\n",
    "\n",
    "        radii = self.radius_boundary_spheres\n",
    "        radii = coagulation_kernel.radius_fractal(coagulation_kernel.volume_sphere(radii))\n",
    "\n",
    "        for ii in range(self.number_size_classes):\n",
    "\n",
    "            r_lower = radii[ii]\n",
    "            r_upper = radii[ii+1]\n",
    "\n",
    "            result, error = dblquad(self.sectional_kernel_1_integrand, \n",
    "                                    r_lower, \n",
    "                                    r_upper, \n",
    "                                    lambda x: np.max(r_upper - x, r_lower),\n",
    "                                    r_upper)\n",
    "\n",
    "            self.sectional_coagulation_kernel[1,ii] = result"
   ]
  },
  {
   "cell_type": "code",
   "execution_count": 42,
   "metadata": {},
   "outputs": [],
   "source": [
    "coagulation_kernel = kernel(\n",
    "    list_of_applied_kernels=[\n",
    "        'rectilinear_shear',\n",
    "        'rectilinear_differential_sedimentation'],\n",
    "    settling_function='settling_velocity_kriest_porous_aggregate'\n",
    "    )\n",
    "\n",
    "kriest_shear_n_diff = sectional_coagulation_kernels(coagulation_kernel, 'power_law', 10, 1e-6, 1e-3)"
   ]
  },
  {
   "cell_type": "code",
   "execution_count": 43,
   "metadata": {},
   "outputs": [
    {
     "ename": "TypeError",
     "evalue": "'numpy.float64' object cannot be interpreted as an integer",
     "output_type": "error",
     "traceback": [
      "\u001b[0;31m---------------------------------------------------------------------------\u001b[0m",
      "\u001b[0;31mTypeError\u001b[0m                                 Traceback (most recent call last)",
      "Cell \u001b[0;32mIn[43], line 1\u001b[0m\n\u001b[0;32m----> 1\u001b[0m \u001b[43mkriest_shear_n_diff\u001b[49m\u001b[38;5;241;43m.\u001b[39;49m\u001b[43msectional_kernel_1_eval\u001b[49m\u001b[43m(\u001b[49m\u001b[43m)\u001b[49m\n",
      "Cell \u001b[0;32mIn[41], line 45\u001b[0m, in \u001b[0;36msectional_coagulation_kernels.sectional_kernel_1_eval\u001b[0;34m(self)\u001b[0m\n\u001b[1;32m     42\u001b[0m r_lower \u001b[38;5;241m=\u001b[39m radii[ii]\n\u001b[1;32m     43\u001b[0m r_upper \u001b[38;5;241m=\u001b[39m radii[ii\u001b[38;5;241m+\u001b[39m\u001b[38;5;241m1\u001b[39m]\n\u001b[0;32m---> 45\u001b[0m result, error \u001b[38;5;241m=\u001b[39m \u001b[43mdblquad\u001b[49m\u001b[43m(\u001b[49m\u001b[38;5;28;43mself\u001b[39;49m\u001b[38;5;241;43m.\u001b[39;49m\u001b[43msectional_kernel_1_integrand\u001b[49m\u001b[43m,\u001b[49m\u001b[43m \u001b[49m\n\u001b[1;32m     46\u001b[0m \u001b[43m                        \u001b[49m\u001b[43mr_lower\u001b[49m\u001b[43m,\u001b[49m\u001b[43m \u001b[49m\n\u001b[1;32m     47\u001b[0m \u001b[43m                        \u001b[49m\u001b[43mr_upper\u001b[49m\u001b[43m,\u001b[49m\u001b[43m \u001b[49m\n\u001b[1;32m     48\u001b[0m \u001b[43m                        \u001b[49m\u001b[38;5;28;43;01mlambda\u001b[39;49;00m\u001b[43m \u001b[49m\u001b[43mx\u001b[49m\u001b[43m:\u001b[49m\u001b[43m \u001b[49m\u001b[43mnp\u001b[49m\u001b[38;5;241;43m.\u001b[39;49m\u001b[43mmax\u001b[49m\u001b[43m(\u001b[49m\u001b[43mr_upper\u001b[49m\u001b[43m \u001b[49m\u001b[38;5;241;43m-\u001b[39;49m\u001b[43m \u001b[49m\u001b[43mx\u001b[49m\u001b[43m,\u001b[49m\u001b[43m \u001b[49m\u001b[43mr_lower\u001b[49m\u001b[43m)\u001b[49m\u001b[43m,\u001b[49m\n\u001b[1;32m     49\u001b[0m \u001b[43m                        \u001b[49m\u001b[43mr_upper\u001b[49m\u001b[43m)\u001b[49m\n\u001b[1;32m     51\u001b[0m \u001b[38;5;28mself\u001b[39m\u001b[38;5;241m.\u001b[39msectional_coagulation_kernel[\u001b[38;5;241m1\u001b[39m,ii] \u001b[38;5;241m=\u001b[39m result\n",
      "File \u001b[0;32m~/.conda/envs/oceantracker/lib/python3.10/site-packages/scipy/integrate/_quadpack_py.py:775\u001b[0m, in \u001b[0;36mdblquad\u001b[0;34m(func, a, b, gfun, hfun, args, epsabs, epsrel)\u001b[0m\n\u001b[1;32m    771\u001b[0m \u001b[38;5;28;01mdef\u001b[39;00m \u001b[38;5;21mtemp_ranges\u001b[39m(\u001b[38;5;241m*\u001b[39margs):\n\u001b[1;32m    772\u001b[0m     \u001b[38;5;28;01mreturn\u001b[39;00m [gfun(args[\u001b[38;5;241m0\u001b[39m]) \u001b[38;5;28;01mif\u001b[39;00m \u001b[38;5;28mcallable\u001b[39m(gfun) \u001b[38;5;28;01melse\u001b[39;00m gfun,\n\u001b[1;32m    773\u001b[0m             hfun(args[\u001b[38;5;241m0\u001b[39m]) \u001b[38;5;28;01mif\u001b[39;00m \u001b[38;5;28mcallable\u001b[39m(hfun) \u001b[38;5;28;01melse\u001b[39;00m hfun]\n\u001b[0;32m--> 775\u001b[0m \u001b[38;5;28;01mreturn\u001b[39;00m \u001b[43mnquad\u001b[49m\u001b[43m(\u001b[49m\u001b[43mfunc\u001b[49m\u001b[43m,\u001b[49m\u001b[43m \u001b[49m\u001b[43m[\u001b[49m\u001b[43mtemp_ranges\u001b[49m\u001b[43m,\u001b[49m\u001b[43m \u001b[49m\u001b[43m[\u001b[49m\u001b[43ma\u001b[49m\u001b[43m,\u001b[49m\u001b[43m \u001b[49m\u001b[43mb\u001b[49m\u001b[43m]\u001b[49m\u001b[43m]\u001b[49m\u001b[43m,\u001b[49m\u001b[43m \u001b[49m\u001b[43margs\u001b[49m\u001b[38;5;241;43m=\u001b[39;49m\u001b[43margs\u001b[49m\u001b[43m,\u001b[49m\n\u001b[1;32m    776\u001b[0m \u001b[43m        \u001b[49m\u001b[43mopts\u001b[49m\u001b[38;5;241;43m=\u001b[39;49m\u001b[43m{\u001b[49m\u001b[38;5;124;43m\"\u001b[39;49m\u001b[38;5;124;43mepsabs\u001b[39;49m\u001b[38;5;124;43m\"\u001b[39;49m\u001b[43m:\u001b[49m\u001b[43m \u001b[49m\u001b[43mepsabs\u001b[49m\u001b[43m,\u001b[49m\u001b[43m \u001b[49m\u001b[38;5;124;43m\"\u001b[39;49m\u001b[38;5;124;43mepsrel\u001b[39;49m\u001b[38;5;124;43m\"\u001b[39;49m\u001b[43m:\u001b[49m\u001b[43m \u001b[49m\u001b[43mepsrel\u001b[49m\u001b[43m}\u001b[49m\u001b[43m)\u001b[49m\n",
      "File \u001b[0;32m~/.conda/envs/oceantracker/lib/python3.10/site-packages/scipy/integrate/_quadpack_py.py:1179\u001b[0m, in \u001b[0;36mnquad\u001b[0;34m(func, ranges, args, opts, full_output)\u001b[0m\n\u001b[1;32m   1177\u001b[0m \u001b[38;5;28;01melse\u001b[39;00m:\n\u001b[1;32m   1178\u001b[0m     opts \u001b[38;5;241m=\u001b[39m [opt \u001b[38;5;28;01mif\u001b[39;00m \u001b[38;5;28mcallable\u001b[39m(opt) \u001b[38;5;28;01melse\u001b[39;00m _OptFunc(opt) \u001b[38;5;28;01mfor\u001b[39;00m opt \u001b[38;5;129;01min\u001b[39;00m opts]\n\u001b[0;32m-> 1179\u001b[0m \u001b[38;5;28;01mreturn\u001b[39;00m \u001b[43m_NQuad\u001b[49m\u001b[43m(\u001b[49m\u001b[43mfunc\u001b[49m\u001b[43m,\u001b[49m\u001b[43m \u001b[49m\u001b[43mranges\u001b[49m\u001b[43m,\u001b[49m\u001b[43m \u001b[49m\u001b[43mopts\u001b[49m\u001b[43m,\u001b[49m\u001b[43m \u001b[49m\u001b[43mfull_output\u001b[49m\u001b[43m)\u001b[49m\u001b[38;5;241;43m.\u001b[39;49m\u001b[43mintegrate\u001b[49m\u001b[43m(\u001b[49m\u001b[38;5;241;43m*\u001b[39;49m\u001b[43margs\u001b[49m\u001b[43m)\u001b[49m\n",
      "File \u001b[0;32m~/.conda/envs/oceantracker/lib/python3.10/site-packages/scipy/integrate/_quadpack_py.py:1233\u001b[0m, in \u001b[0;36m_NQuad.integrate\u001b[0;34m(self, *args, **kwargs)\u001b[0m\n\u001b[1;32m   1231\u001b[0m \u001b[38;5;28;01melse\u001b[39;00m:\n\u001b[1;32m   1232\u001b[0m     f \u001b[38;5;241m=\u001b[39m partial(\u001b[38;5;28mself\u001b[39m\u001b[38;5;241m.\u001b[39mintegrate, depth\u001b[38;5;241m=\u001b[39mdepth\u001b[38;5;241m+\u001b[39m\u001b[38;5;241m1\u001b[39m)\n\u001b[0;32m-> 1233\u001b[0m quad_r \u001b[38;5;241m=\u001b[39m \u001b[43mquad\u001b[49m\u001b[43m(\u001b[49m\u001b[43mf\u001b[49m\u001b[43m,\u001b[49m\u001b[43m \u001b[49m\u001b[43mlow\u001b[49m\u001b[43m,\u001b[49m\u001b[43m \u001b[49m\u001b[43mhigh\u001b[49m\u001b[43m,\u001b[49m\u001b[43m \u001b[49m\u001b[43margs\u001b[49m\u001b[38;5;241;43m=\u001b[39;49m\u001b[43margs\u001b[49m\u001b[43m,\u001b[49m\u001b[43m \u001b[49m\u001b[43mfull_output\u001b[49m\u001b[38;5;241;43m=\u001b[39;49m\u001b[38;5;28;43mself\u001b[39;49m\u001b[38;5;241;43m.\u001b[39;49m\u001b[43mfull_output\u001b[49m\u001b[43m,\u001b[49m\n\u001b[1;32m   1234\u001b[0m \u001b[43m              \u001b[49m\u001b[38;5;241;43m*\u001b[39;49m\u001b[38;5;241;43m*\u001b[39;49m\u001b[43mopt\u001b[49m\u001b[43m)\u001b[49m\n\u001b[1;32m   1235\u001b[0m value \u001b[38;5;241m=\u001b[39m quad_r[\u001b[38;5;241m0\u001b[39m]\n\u001b[1;32m   1236\u001b[0m abserr \u001b[38;5;241m=\u001b[39m quad_r[\u001b[38;5;241m1\u001b[39m]\n",
      "File \u001b[0;32m~/.conda/envs/oceantracker/lib/python3.10/site-packages/scipy/integrate/_quadpack_py.py:465\u001b[0m, in \u001b[0;36mquad\u001b[0;34m(func, a, b, args, full_output, epsabs, epsrel, limit, points, weight, wvar, wopts, maxp1, limlst, complex_func)\u001b[0m\n\u001b[1;32m    462\u001b[0m     \u001b[38;5;28;01mreturn\u001b[39;00m retval\n\u001b[1;32m    464\u001b[0m \u001b[38;5;28;01mif\u001b[39;00m weight \u001b[38;5;129;01mis\u001b[39;00m \u001b[38;5;28;01mNone\u001b[39;00m:\n\u001b[0;32m--> 465\u001b[0m     retval \u001b[38;5;241m=\u001b[39m \u001b[43m_quad\u001b[49m\u001b[43m(\u001b[49m\u001b[43mfunc\u001b[49m\u001b[43m,\u001b[49m\u001b[43m \u001b[49m\u001b[43ma\u001b[49m\u001b[43m,\u001b[49m\u001b[43m \u001b[49m\u001b[43mb\u001b[49m\u001b[43m,\u001b[49m\u001b[43m \u001b[49m\u001b[43margs\u001b[49m\u001b[43m,\u001b[49m\u001b[43m \u001b[49m\u001b[43mfull_output\u001b[49m\u001b[43m,\u001b[49m\u001b[43m \u001b[49m\u001b[43mepsabs\u001b[49m\u001b[43m,\u001b[49m\u001b[43m \u001b[49m\u001b[43mepsrel\u001b[49m\u001b[43m,\u001b[49m\u001b[43m \u001b[49m\u001b[43mlimit\u001b[49m\u001b[43m,\u001b[49m\n\u001b[1;32m    466\u001b[0m \u001b[43m                   \u001b[49m\u001b[43mpoints\u001b[49m\u001b[43m)\u001b[49m\n\u001b[1;32m    467\u001b[0m \u001b[38;5;28;01melse\u001b[39;00m:\n\u001b[1;32m    468\u001b[0m     \u001b[38;5;28;01mif\u001b[39;00m points \u001b[38;5;129;01mis\u001b[39;00m \u001b[38;5;129;01mnot\u001b[39;00m \u001b[38;5;28;01mNone\u001b[39;00m:\n",
      "File \u001b[0;32m~/.conda/envs/oceantracker/lib/python3.10/site-packages/scipy/integrate/_quadpack_py.py:577\u001b[0m, in \u001b[0;36m_quad\u001b[0;34m(func, a, b, args, full_output, epsabs, epsrel, limit, points)\u001b[0m\n\u001b[1;32m    575\u001b[0m \u001b[38;5;28;01mif\u001b[39;00m points \u001b[38;5;129;01mis\u001b[39;00m \u001b[38;5;28;01mNone\u001b[39;00m:\n\u001b[1;32m    576\u001b[0m     \u001b[38;5;28;01mif\u001b[39;00m infbounds \u001b[38;5;241m==\u001b[39m \u001b[38;5;241m0\u001b[39m:\n\u001b[0;32m--> 577\u001b[0m         \u001b[38;5;28;01mreturn\u001b[39;00m \u001b[43m_quadpack\u001b[49m\u001b[38;5;241;43m.\u001b[39;49m\u001b[43m_qagse\u001b[49m\u001b[43m(\u001b[49m\u001b[43mfunc\u001b[49m\u001b[43m,\u001b[49m\u001b[43ma\u001b[49m\u001b[43m,\u001b[49m\u001b[43mb\u001b[49m\u001b[43m,\u001b[49m\u001b[43margs\u001b[49m\u001b[43m,\u001b[49m\u001b[43mfull_output\u001b[49m\u001b[43m,\u001b[49m\u001b[43mepsabs\u001b[49m\u001b[43m,\u001b[49m\u001b[43mepsrel\u001b[49m\u001b[43m,\u001b[49m\u001b[43mlimit\u001b[49m\u001b[43m)\u001b[49m\n\u001b[1;32m    578\u001b[0m     \u001b[38;5;28;01melse\u001b[39;00m:\n\u001b[1;32m    579\u001b[0m         \u001b[38;5;28;01mreturn\u001b[39;00m _quadpack\u001b[38;5;241m.\u001b[39m_qagie(func,bound,infbounds,args,full_output,epsabs,epsrel,limit)\n",
      "File \u001b[0;32m~/.conda/envs/oceantracker/lib/python3.10/site-packages/scipy/integrate/_quadpack_py.py:1223\u001b[0m, in \u001b[0;36m_NQuad.integrate\u001b[0;34m(self, *args, **kwargs)\u001b[0m\n\u001b[1;32m   1221\u001b[0m ind \u001b[38;5;241m=\u001b[39m \u001b[38;5;241m-\u001b[39m(depth \u001b[38;5;241m+\u001b[39m \u001b[38;5;241m1\u001b[39m)\n\u001b[1;32m   1222\u001b[0m fn_range \u001b[38;5;241m=\u001b[39m \u001b[38;5;28mself\u001b[39m\u001b[38;5;241m.\u001b[39mranges[ind]\n\u001b[0;32m-> 1223\u001b[0m low, high \u001b[38;5;241m=\u001b[39m \u001b[43mfn_range\u001b[49m\u001b[43m(\u001b[49m\u001b[38;5;241;43m*\u001b[39;49m\u001b[43margs\u001b[49m\u001b[43m)\u001b[49m\n\u001b[1;32m   1224\u001b[0m fn_opt \u001b[38;5;241m=\u001b[39m \u001b[38;5;28mself\u001b[39m\u001b[38;5;241m.\u001b[39mopts[ind]\n\u001b[1;32m   1225\u001b[0m opt \u001b[38;5;241m=\u001b[39m \u001b[38;5;28mdict\u001b[39m(fn_opt(\u001b[38;5;241m*\u001b[39margs))\n",
      "File \u001b[0;32m~/.conda/envs/oceantracker/lib/python3.10/site-packages/scipy/integrate/_quadpack_py.py:772\u001b[0m, in \u001b[0;36mdblquad.<locals>.temp_ranges\u001b[0;34m(*args)\u001b[0m\n\u001b[1;32m    771\u001b[0m \u001b[38;5;28;01mdef\u001b[39;00m \u001b[38;5;21mtemp_ranges\u001b[39m(\u001b[38;5;241m*\u001b[39margs):\n\u001b[0;32m--> 772\u001b[0m     \u001b[38;5;28;01mreturn\u001b[39;00m [\u001b[43mgfun\u001b[49m\u001b[43m(\u001b[49m\u001b[43margs\u001b[49m\u001b[43m[\u001b[49m\u001b[38;5;241;43m0\u001b[39;49m\u001b[43m]\u001b[49m\u001b[43m)\u001b[49m \u001b[38;5;28;01mif\u001b[39;00m \u001b[38;5;28mcallable\u001b[39m(gfun) \u001b[38;5;28;01melse\u001b[39;00m gfun,\n\u001b[1;32m    773\u001b[0m             hfun(args[\u001b[38;5;241m0\u001b[39m]) \u001b[38;5;28;01mif\u001b[39;00m \u001b[38;5;28mcallable\u001b[39m(hfun) \u001b[38;5;28;01melse\u001b[39;00m hfun]\n",
      "Cell \u001b[0;32mIn[41], line 48\u001b[0m, in \u001b[0;36msectional_coagulation_kernels.sectional_kernel_1_eval.<locals>.<lambda>\u001b[0;34m(x)\u001b[0m\n\u001b[1;32m     42\u001b[0m r_lower \u001b[38;5;241m=\u001b[39m radii[ii]\n\u001b[1;32m     43\u001b[0m r_upper \u001b[38;5;241m=\u001b[39m radii[ii\u001b[38;5;241m+\u001b[39m\u001b[38;5;241m1\u001b[39m]\n\u001b[1;32m     45\u001b[0m result, error \u001b[38;5;241m=\u001b[39m dblquad(\u001b[38;5;28mself\u001b[39m\u001b[38;5;241m.\u001b[39msectional_kernel_1_integrand, \n\u001b[1;32m     46\u001b[0m                         r_lower, \n\u001b[1;32m     47\u001b[0m                         r_upper, \n\u001b[0;32m---> 48\u001b[0m                         \u001b[38;5;28;01mlambda\u001b[39;00m x: \u001b[43mnp\u001b[49m\u001b[38;5;241;43m.\u001b[39;49m\u001b[43mmax\u001b[49m\u001b[43m(\u001b[49m\u001b[43mr_upper\u001b[49m\u001b[43m \u001b[49m\u001b[38;5;241;43m-\u001b[39;49m\u001b[43m \u001b[49m\u001b[43mx\u001b[49m\u001b[43m,\u001b[49m\u001b[43m \u001b[49m\u001b[43mr_lower\u001b[49m\u001b[43m)\u001b[49m,\n\u001b[1;32m     49\u001b[0m                         r_upper)\n\u001b[1;32m     51\u001b[0m \u001b[38;5;28mself\u001b[39m\u001b[38;5;241m.\u001b[39msectional_coagulation_kernel[\u001b[38;5;241m1\u001b[39m,ii] \u001b[38;5;241m=\u001b[39m result\n",
      "File \u001b[0;32m<__array_function__ internals>:180\u001b[0m, in \u001b[0;36mamax\u001b[0;34m(*args, **kwargs)\u001b[0m\n",
      "File \u001b[0;32m~/.conda/envs/oceantracker/lib/python3.10/site-packages/numpy/core/fromnumeric.py:2791\u001b[0m, in \u001b[0;36mamax\u001b[0;34m(a, axis, out, keepdims, initial, where)\u001b[0m\n\u001b[1;32m   2675\u001b[0m \u001b[38;5;129m@array_function_dispatch\u001b[39m(_amax_dispatcher)\n\u001b[1;32m   2676\u001b[0m \u001b[38;5;28;01mdef\u001b[39;00m \u001b[38;5;21mamax\u001b[39m(a, axis\u001b[38;5;241m=\u001b[39m\u001b[38;5;28;01mNone\u001b[39;00m, out\u001b[38;5;241m=\u001b[39m\u001b[38;5;28;01mNone\u001b[39;00m, keepdims\u001b[38;5;241m=\u001b[39mnp\u001b[38;5;241m.\u001b[39m_NoValue, initial\u001b[38;5;241m=\u001b[39mnp\u001b[38;5;241m.\u001b[39m_NoValue,\n\u001b[1;32m   2677\u001b[0m          where\u001b[38;5;241m=\u001b[39mnp\u001b[38;5;241m.\u001b[39m_NoValue):\n\u001b[1;32m   2678\u001b[0m \u001b[38;5;250m    \u001b[39m\u001b[38;5;124;03m\"\"\"\u001b[39;00m\n\u001b[1;32m   2679\u001b[0m \u001b[38;5;124;03m    Return the maximum of an array or maximum along an axis.\u001b[39;00m\n\u001b[1;32m   2680\u001b[0m \n\u001b[0;32m   (...)\u001b[0m\n\u001b[1;32m   2789\u001b[0m \u001b[38;5;124;03m    5\u001b[39;00m\n\u001b[1;32m   2790\u001b[0m \u001b[38;5;124;03m    \"\"\"\u001b[39;00m\n\u001b[0;32m-> 2791\u001b[0m     \u001b[38;5;28;01mreturn\u001b[39;00m \u001b[43m_wrapreduction\u001b[49m\u001b[43m(\u001b[49m\u001b[43ma\u001b[49m\u001b[43m,\u001b[49m\u001b[43m \u001b[49m\u001b[43mnp\u001b[49m\u001b[38;5;241;43m.\u001b[39;49m\u001b[43mmaximum\u001b[49m\u001b[43m,\u001b[49m\u001b[43m \u001b[49m\u001b[38;5;124;43m'\u001b[39;49m\u001b[38;5;124;43mmax\u001b[39;49m\u001b[38;5;124;43m'\u001b[39;49m\u001b[43m,\u001b[49m\u001b[43m \u001b[49m\u001b[43maxis\u001b[49m\u001b[43m,\u001b[49m\u001b[43m \u001b[49m\u001b[38;5;28;43;01mNone\u001b[39;49;00m\u001b[43m,\u001b[49m\u001b[43m \u001b[49m\u001b[43mout\u001b[49m\u001b[43m,\u001b[49m\n\u001b[1;32m   2792\u001b[0m \u001b[43m                          \u001b[49m\u001b[43mkeepdims\u001b[49m\u001b[38;5;241;43m=\u001b[39;49m\u001b[43mkeepdims\u001b[49m\u001b[43m,\u001b[49m\u001b[43m \u001b[49m\u001b[43minitial\u001b[49m\u001b[38;5;241;43m=\u001b[39;49m\u001b[43minitial\u001b[49m\u001b[43m,\u001b[49m\u001b[43m \u001b[49m\u001b[43mwhere\u001b[49m\u001b[38;5;241;43m=\u001b[39;49m\u001b[43mwhere\u001b[49m\u001b[43m)\u001b[49m\n",
      "File \u001b[0;32m~/.conda/envs/oceantracker/lib/python3.10/site-packages/numpy/core/fromnumeric.py:84\u001b[0m, in \u001b[0;36m_wrapreduction\u001b[0;34m(obj, ufunc, method, axis, dtype, out, **kwargs)\u001b[0m\n\u001b[1;32m     82\u001b[0m             \u001b[38;5;28;01mreturn\u001b[39;00m reduction(axis\u001b[38;5;241m=\u001b[39maxis, dtype\u001b[38;5;241m=\u001b[39mdtype, out\u001b[38;5;241m=\u001b[39mout, \u001b[38;5;241m*\u001b[39m\u001b[38;5;241m*\u001b[39mpasskwargs)\n\u001b[1;32m     83\u001b[0m         \u001b[38;5;28;01melse\u001b[39;00m:\n\u001b[0;32m---> 84\u001b[0m             \u001b[38;5;28;01mreturn\u001b[39;00m \u001b[43mreduction\u001b[49m\u001b[43m(\u001b[49m\u001b[43maxis\u001b[49m\u001b[38;5;241;43m=\u001b[39;49m\u001b[43maxis\u001b[49m\u001b[43m,\u001b[49m\u001b[43m \u001b[49m\u001b[43mout\u001b[49m\u001b[38;5;241;43m=\u001b[39;49m\u001b[43mout\u001b[49m\u001b[43m,\u001b[49m\u001b[43m \u001b[49m\u001b[38;5;241;43m*\u001b[39;49m\u001b[38;5;241;43m*\u001b[39;49m\u001b[43mpasskwargs\u001b[49m\u001b[43m)\u001b[49m\n\u001b[1;32m     86\u001b[0m \u001b[38;5;28;01mreturn\u001b[39;00m ufunc\u001b[38;5;241m.\u001b[39mreduce(obj, axis, dtype, out, \u001b[38;5;241m*\u001b[39m\u001b[38;5;241m*\u001b[39mpasskwargs)\n",
      "File \u001b[0;32m~/.conda/envs/oceantracker/lib/python3.10/site-packages/numpy/core/_methods.py:40\u001b[0m, in \u001b[0;36m_amax\u001b[0;34m(a, axis, out, keepdims, initial, where)\u001b[0m\n\u001b[1;32m     38\u001b[0m \u001b[38;5;28;01mdef\u001b[39;00m \u001b[38;5;21m_amax\u001b[39m(a, axis\u001b[38;5;241m=\u001b[39m\u001b[38;5;28;01mNone\u001b[39;00m, out\u001b[38;5;241m=\u001b[39m\u001b[38;5;28;01mNone\u001b[39;00m, keepdims\u001b[38;5;241m=\u001b[39m\u001b[38;5;28;01mFalse\u001b[39;00m,\n\u001b[1;32m     39\u001b[0m           initial\u001b[38;5;241m=\u001b[39m_NoValue, where\u001b[38;5;241m=\u001b[39m\u001b[38;5;28;01mTrue\u001b[39;00m):\n\u001b[0;32m---> 40\u001b[0m     \u001b[38;5;28;01mreturn\u001b[39;00m \u001b[43mumr_maximum\u001b[49m\u001b[43m(\u001b[49m\u001b[43ma\u001b[49m\u001b[43m,\u001b[49m\u001b[43m \u001b[49m\u001b[43maxis\u001b[49m\u001b[43m,\u001b[49m\u001b[43m \u001b[49m\u001b[38;5;28;43;01mNone\u001b[39;49;00m\u001b[43m,\u001b[49m\u001b[43m \u001b[49m\u001b[43mout\u001b[49m\u001b[43m,\u001b[49m\u001b[43m \u001b[49m\u001b[43mkeepdims\u001b[49m\u001b[43m,\u001b[49m\u001b[43m \u001b[49m\u001b[43minitial\u001b[49m\u001b[43m,\u001b[49m\u001b[43m \u001b[49m\u001b[43mwhere\u001b[49m\u001b[43m)\u001b[49m\n",
      "\u001b[0;31mTypeError\u001b[0m: 'numpy.float64' object cannot be interpreted as an integer"
     ]
    }
   ],
   "source": [
    "kriest_shear_n_diff.sectional_kernel_1_eval()"
   ]
  },
  {
   "cell_type": "code",
   "execution_count": 30,
   "metadata": {},
   "outputs": [
    {
     "data": {
      "text/plain": [
       "array([1.49763116e-06, 2.98816701e-06, 5.96217703e-06, 1.18961071e-05,\n",
       "       2.37358543e-05, 4.73592555e-05, 9.44941378e-05, 1.88540592e-04,\n",
       "       3.76187938e-04, 7.50593617e-04])"
      ]
     },
     "execution_count": 30,
     "metadata": {},
     "output_type": "execute_result"
    }
   ],
   "source": [
    "number_size_classes = 10\n",
    "\n",
    "radius_sphere_min = 1e-6\n",
    "radius_sphere_max = 1e-3\n",
    "\n",
    "radius_boundary_spheres = np.logspace(np.log10(radius_sphere_min), np.log10(radius_sphere_max), number_size_classes+1)\n",
    "# radius_mean_spheres = \n",
    "\n",
    "radius_mean_spheres = np.convolve(radius_boundary_spheres, np.ones(2, dtype=int), 'valid') / 2\n",
    "\n",
    "radius_mean_spheres\n"
   ]
  },
  {
   "cell_type": "code",
   "execution_count": 31,
   "metadata": {},
   "outputs": [
    {
     "data": {
      "text/plain": [
       "array([2.97704500e+17, 3.74787761e+16, 4.71829836e+15, 5.93998570e+14,\n",
       "       7.47799895e+13, 9.41424290e+12, 1.18518296e+12, 1.49205695e+11,\n",
       "       1.87838841e+10, 2.36475090e+09])"
      ]
     },
     "execution_count": 31,
     "metadata": {},
     "output_type": "execute_result"
    }
   ],
   "source": [
    "particles_in_size_bin"
   ]
  },
  {
   "cell_type": "markdown",
   "metadata": {},
   "source": []
  }
 ],
 "metadata": {
  "kernelspec": {
   "display_name": "oceantracker",
   "language": "python",
   "name": "python3"
  },
  "language_info": {
   "codemirror_mode": {
    "name": "ipython",
    "version": 3
   },
   "file_extension": ".py",
   "mimetype": "text/x-python",
   "name": "python",
   "nbconvert_exporter": "python",
   "pygments_lexer": "ipython3",
   "version": "3.10.13"
  }
 },
 "nbformat": 4,
 "nbformat_minor": 2
}
